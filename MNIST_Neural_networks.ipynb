{
  "nbformat": 4,
  "nbformat_minor": 0,
  "metadata": {
    "colab": {
      "provenance": [],
      "authorship_tag": "ABX9TyPWcllLIKUvqbEsK2qC1Nwb",
      "include_colab_link": true
    },
    "kernelspec": {
      "name": "python3",
      "display_name": "Python 3"
    },
    "language_info": {
      "name": "python"
    }
  },
  "cells": [
    {
      "cell_type": "markdown",
      "metadata": {
        "id": "view-in-github",
        "colab_type": "text"
      },
      "source": [
        "<a href=\"https://colab.research.google.com/github/moses-y/Neural-Networks/blob/main/MNIST_Neural_networks.ipynb\" target=\"_parent\"><img src=\"https://colab.research.google.com/assets/colab-badge.svg\" alt=\"Open In Colab\"/></a>"
      ]
    },
    {
      "cell_type": "code",
      "execution_count": 2,
      "metadata": {
        "colab": {
          "base_uri": "https://localhost:8080/"
        },
        "id": "fp8DB-ABbuK7",
        "outputId": "c4adc618-27ae-4c0e-c3bd-8916c7668457"
      },
      "outputs": [
        {
          "output_type": "stream",
          "name": "stdout",
          "text": [
            "1875/1875 [==============================] - 7s 3ms/step - loss: 0.2376\n",
            "Test accuracy: 0.9573000073432922\n"
          ]
        }
      ],
      "source": [
        "import tensorflow as tf\n",
        "import numpy as np\n",
        "\n",
        "\n",
        "model = tf.keras.models.Sequential([\n",
        "    tf.keras.layers.Dense(128, activation='relu'),\n",
        "    tf.keras.layers.Dense(64, activation='relu'), \n",
        "    tf.keras.layers.Dense(10, activation='softmax')\n",
        "])\n",
        "\n",
        "#load mnist dataset\n",
        "(x_train, y_train), (x_test, y_test) = tf.keras.datasets.mnist.load_data()\n",
        "\n",
        "#reshape, normalise and convert inputs to float32\n",
        "x_train = (x_train/255.).reshape([-1, 784]).astype(np.float32)\n",
        "x_test = (x_test/255.).reshape([-1, 784]).astype(np.float32)\n",
        "\n",
        "#convert labels to one-hot vectors\n",
        "y_train, y_test = tf.one_hot(y_train, 10), tf.one_hot(y_test, 10)\n",
        "\n",
        "#prepare for the training\n",
        "train_data = tf.data.Dataset. from_tensor_slices((x_train, y_train))\n",
        "train_data = train_data.shuffle(500).batch(32)\n",
        "\n",
        "model.compile(optimizer='adam', loss='categorical_crossentropy')\n",
        "model.fit(train_data)\n",
        "\n",
        "def accuracy(y_pred, y_true):\n",
        "    correct_prediction = tf.equal(tf.argmax(y_pred, -1), tf.argmax(y_true, -1))\n",
        "    return tf.reduce_mean(tf.cast(correct_prediction, tf.float32), axis=-1)\n",
        "\n",
        "pred = model(x_test)\n",
        "print(f'Test accuracy: {accuracy(pred, y_test)}')"
      ]
    }
  ]
}